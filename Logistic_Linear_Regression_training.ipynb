{
  "nbformat": 4,
  "nbformat_minor": 0,
  "metadata": {
    "colab": {
      "name": "Logistic/Linear Regression training.ipynb",
      "provenance": [],
      "collapsed_sections": [],
      "authorship_tag": "ABX9TyPCPdvP1FtJb2ESeATgq8ua",
      "include_colab_link": true
    },
    "kernelspec": {
      "name": "python3",
      "display_name": "Python 3"
    },
    "language_info": {
      "name": "python"
    }
  },
  "cells": [
    {
      "cell_type": "markdown",
      "metadata": {
        "id": "view-in-github",
        "colab_type": "text"
      },
      "source": [
        "<a href=\"https://colab.research.google.com/github/xWuWux/Logistic-Linear-Regression-training/blob/main/Logistic_Linear_Regression_training.ipynb\" target=\"_parent\"><img src=\"https://colab.research.google.com/assets/colab-badge.svg\" alt=\"Open In Colab\"/></a>"
      ]
    },
    {
      "cell_type": "code",
      "metadata": {
        "colab": {
          "base_uri": "https://localhost:8080/"
        },
        "id": "iQ2-3RxLyklf",
        "outputId": "7a6bc3d6-71fe-45b8-f2a1-0913dff547c0"
      },
      "source": [
        "!git config --global user.email \"wojteklobo@gmail.com\"\n",
        "!git config --global user.name \"xWuWux\"\n",
        "!echo \"# Logistic-Regression-training\" >> README.md\n",
        "#!Omit --global\n",
        "\n",
        "!git init\n",
        "!git add README.md\n",
        "!git commit -m \"first commit\"\n",
        "!git fetch\n",
        "!git reset\n",
        "!git push --set-upstream origin master\n",
        "!git branch -M main\n",
        "!git remote add origin https://github.com/xWuWux/Logistic-Regression-training.git\n",
        "!git push -u origin main"
      ],
      "execution_count": 38,
      "outputs": [
        {
          "output_type": "stream",
          "name": "stdout",
          "text": [
            "Reinitialized existing Git repository in /content/.git/\n",
            "[main d3b29f9] first commit\n",
            " 1 file changed, 1 insertion(+)\n",
            "error: src refspec master does not match any.\n",
            "error: failed to push some refs to 'https://github.com/xWuWux/Logistic-Regression-training.git'\n",
            "fatal: remote origin already exists.\n",
            "fatal: could not read Username for 'https://github.com': No such device or address\n"
          ]
        }
      ]
    },
    {
      "cell_type": "code",
      "metadata": {
        "id": "iPaEG0AfhYzR",
        "colab": {
          "base_uri": "https://localhost:8080/",
          "height": 1000
        },
        "outputId": "715b3356-ae78-462b-f23b-0f2ee361008e"
      },
      "source": [
        "import matplotlib.pyplot as plt\n",
        "import numpy as np\n",
        "import pandas\n",
        "from sklearn.linear_model import LinearRegression\n",
        "from sklearn.linear_model import LogisticRegression\n",
        "from sklearn.metrics import classification_report, confusion_matrix\n",
        "import time\n",
        "\n",
        "x = np.arange(10).reshape(-1, 1)\n",
        "y = np.array([0, 0, 0, 0, 1, 1, 1, 1, 1, 1])\n",
        "\n",
        "model = LogisticRegression(solver='liblinear', random_state=0)\n",
        "model.fit(x, y)\n",
        "LogisticRegression(C=1.0, class_weight=None, dual=False, fit_intercept=True,\n",
        "                   intercept_scaling=1, l1_ratio=None, max_iter=1000,\n",
        "                   multi_class='warn', n_jobs=None, penalty='l2',\n",
        "                   random_state=0, solver='liblinear', tol=0.0001, verbose=0,\n",
        "                   warm_start=False)\n",
        "model = LogisticRegression(solver='liblinear', random_state=0).fit(x, y)\n",
        "\n",
        "d = pandas.DataFrame([[1,2],[3,4],[5,6]],columns=['x','y'])\n",
        "x = np.array(d['x'])\n",
        "y = np.array(d['y'])\n",
        "np.polyfit(x,y,0.01)\n",
        "plt.plot(x, y, 'o')\n",
        "m, b = np.polyfit(x, y, 1)\n",
        "plt.plot(x, m*x + b)\n",
        "\n",
        "model.intercept_\n",
        "print(\"Model intercept is\", model.intercept_)\n",
        "\n",
        "\n",
        "x = np.arange(10).reshape(-1, 1)\n",
        "y = np.array([0, 0, 0, 0, 1, 1, 1, 1, 1, 1])\n",
        "\n",
        "\n",
        "print(model.predict_proba(x))\n",
        "print(model.predict(x))\n",
        "print(model.score(x, y))\n",
        "print(confusion_matrix(y, model.predict(x)))\n",
        "cm = confusion_matrix(y, model.predict(x))\n",
        "print (cm)\n",
        "\n",
        "fig, ax = plt.subplots(figsize=(8, 8))\n",
        "ax.imshow(cm)\n",
        "ax.grid(False)\n",
        "ax.xaxis.set(ticks=(0, 1), ticklabels=('Predicted 0s', 'Predicted 1s'))\n",
        "ax.yaxis.set(ticks=(0, 1), ticklabels=('Actual 0s', 'Actual 1s'))\n",
        "ax.set_ylim(1.5, -0.5)\n",
        "for i in range(2):\n",
        "    for j in range(2):\n",
        "        ax.text(j, i, cm[i, j], ha='center', va='center', color='red')\n",
        "plt.show()\n",
        "\n",
        "\n",
        "model = LogisticRegression(solver='liblinear', C=10.0, random_state=0)\n",
        "model.fit(x, y)\n",
        "\n",
        "d = pandas.DataFrame([[1,2],[3,4],[5,6]],columns=['x','y'])\n",
        "x = np.array(d['x'])\n",
        "y = np.array(d['y'])\n",
        "np.polyfit(x,y,0.01)\n",
        "plt.plot(x, y, 'o')\n",
        "m, b = np.polyfit(x, y, 1)\n",
        "plt.plot(x, m*x + b)\n",
        "\n",
        "!time python Logistic/Linear Regression training.ipynb"
      ],
      "execution_count": 39,
      "outputs": [
        {
          "output_type": "stream",
          "name": "stdout",
          "text": [
            "Model intercept is [-1.04608067]\n",
            "[[0.74002157 0.25997843]\n",
            " [0.62975524 0.37024476]\n",
            " [0.5040632  0.4959368 ]\n",
            " [0.37785549 0.62214451]\n",
            " [0.26628093 0.73371907]\n",
            " [0.17821501 0.82178499]\n",
            " [0.11472079 0.88527921]\n",
            " [0.07186982 0.92813018]\n",
            " [0.04422513 0.95577487]\n",
            " [0.02690569 0.97309431]]\n",
            "[0 0 0 1 1 1 1 1 1 1]\n",
            "0.9\n",
            "[[3 1]\n",
            " [0 6]]\n",
            "[[3 1]\n",
            " [0 6]]\n"
          ]
        },
        {
          "output_type": "display_data",
          "data": {
            "image/png": "[encoded data removed]",
            "text/plain": [
              "<Figure size 432x288 with 1 Axes>"
            ]
          },
          "metadata": {
            "needs_background": "light"
          }
        },
        {
          "output_type": "display_data",
          "data": {
            "image/png": "[encoded data removed]",
            "text/plain": [
              "<Figure size 576x576 with 1 Axes>"
            ]
          },
          "metadata": {
            "needs_background": "light"
          }
        },
        {
          "output_type": "stream",
          "name": "stdout",
          "text": [
            "python3: can't open file 'Logistic/Linear': [Errno 2] No such file or directory\n",
            "\n",
            "real\t0m0.099s\n",
            "user\t0m0.063s\n",
            "sys\t0m0.032s\n"
          ]
        },
        {
          "output_type": "display_data",
          "data": {
            "image/png": "[encoded data removed]",
            "text/plain": [
              "<Figure size 432x288 with 1 Axes>"
            ]
          },
          "metadata": {
            "needs_background": "light"
          }
        }
      ]
    },
    {
      "cell_type": "code",
      "metadata": {
        "colab": {
          "base_uri": "https://localhost:8080/",
          "height": 1000
        },
        "id": "wkli4U0E_fri",
        "outputId": "10a807f4-1b59-47c0-8cf1-fca6f544ad60"
      },
      "source": [
        "from sklearn.linear_model import LinearRegression\n",
        "import time\n",
        "\n",
        "x = np.arange(10).reshape(-1, 1)\n",
        "y = np.array([0, 0, 0, 0, 1, 1, 1, 1, 1, 1])\n",
        "\n",
        "model = LinearRegression()\n",
        "model = LinearRegression().fit(x, y)\n",
        "r_sq = model.score(x, y)\n",
        "print('coefficient of determination:', r_sq)\n",
        "print('intercept:', model.intercept_)\n",
        "print('slope:', model.coef_)\n",
        "new_model = LinearRegression().fit(x, y.reshape((-1, 1)))\n",
        "print('intercept:', new_model.intercept_)\n",
        "print('slope:', new_model.coef_)\n",
        "y_pred = model.predict(x)\n",
        "print('predicted response:', y_pred, sep='\\n')\n",
        "y_pred = model.intercept_ + model.coef_ * x\n",
        "print('predicted response:', y_pred, sep='\\n')\n",
        "x_new = np.arange(5).reshape((-1, 1))\n",
        "print(x_new)\n",
        "\n",
        "fig, ax = plt.subplots(figsize=(8, 8))\n",
        "ax.imshow(cm)\n",
        "ax.grid(False)\n",
        "ax.xaxis.set(ticks=(0, 1), ticklabels=('predicted response:', 'Predicted '))\n",
        "ax.yaxis.set(ticks=(0, 1), ticklabels=('intercept:', 'slope'))\n",
        "ax.set_ylim(1.5, -0.5)\n",
        "for i in range(2):\n",
        "    for j in range(2):\n",
        "        ax.text(j, i, cm[i, j], ha='center', va='center', color='red')\n",
        "plt.show()\n",
        "\n",
        "\n",
        "model.intercept_\n",
        "print (\"Model intercept is\", model.intercept_)\n",
        "\n",
        "!time python Logistic/Linear Regression training.ipynb"
      ],
      "execution_count": 40,
      "outputs": [
        {
          "output_type": "stream",
          "name": "stdout",
          "text": [
            "coefficient of determination: 0.7272727272727273\n",
            "intercept: -0.054545454545454564\n",
            "slope: [0.14545455]\n",
            "intercept: [-0.05454545]\n",
            "slope: [[0.14545455]]\n",
            "predicted response:\n",
            "[-0.05454545  0.09090909  0.23636364  0.38181818  0.52727273  0.67272727\n",
            "  0.81818182  0.96363636  1.10909091  1.25454545]\n",
            "predicted response:\n",
            "[[-0.05454545]\n",
            " [ 0.09090909]\n",
            " [ 0.23636364]\n",
            " [ 0.38181818]\n",
            " [ 0.52727273]\n",
            " [ 0.67272727]\n",
            " [ 0.81818182]\n",
            " [ 0.96363636]\n",
            " [ 1.10909091]\n",
            " [ 1.25454545]]\n",
            "[[0]\n",
            " [1]\n",
            " [2]\n",
            " [3]\n",
            " [4]]\n"
          ]
        },
        {
          "output_type": "display_data",
          "data": {
            "image/png": "[encoded data removed]",
            "text/plain": [
              "<Figure size 576x576 with 1 Axes>"
            ]
          },
          "metadata": {
            "needs_background": "light"
          }
        },
        {
          "output_type": "stream",
          "name": "stdout",
          "text": [
            "Model intercept is -0.054545454545454564\n",
            "python3: can't open file 'Logistic/Linear': [Errno 2] No such file or directory\n",
            "\n",
            "real\t0m0.067s\n",
            "user\t0m0.037s\n",
            "sys\t0m0.029s\n"
          ]
        }
      ]
    }
  ]
}